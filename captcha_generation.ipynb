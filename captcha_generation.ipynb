{
 "cells": [
  {
   "cell_type": "code",
   "execution_count": 20,
   "metadata": {},
   "outputs": [],
   "source": [
    "import os\n",
    "import cv2\n",
    "import string\n",
    "import random\n",
    "import glob\n",
    "from PIL import Image, ImageChops\n",
    "from claptcha import Claptcha\n",
    "\n",
    "import numpy as np\n",
    "import matplotlib.pyplot as plt\n",
    "from shutil import copyfile\n",
    "\n",
    "from matplotlib.pyplot import imshow\n",
    "import numpy as np\n",
    "from PIL import Image\n",
    "\n",
    "%matplotlib inline\n"
   ]
  },
  {
   "cell_type": "code",
   "execution_count": 21,
   "metadata": {},
   "outputs": [
    {
     "name": "stdout",
     "output_type": "stream",
     "text": [
      "/data/home/deep/notebooks/claptcha/generated_img_orig\n",
      "/data/home/deep/notebooks/claptcha/generated_img_clear\n",
      "/data/home/deep/notebooks/claptcha/generated_img_clear_with_boxes\n"
     ]
    }
   ],
   "source": [
    "root_dir = os.getcwd()\n",
    "image_output = os.path.join(root_dir,'generated_img_orig')\n",
    "print(image_output)\n",
    "\n",
    "image_clear_output = os.path.join(root_dir,'generated_img_clear')\n",
    "print(image_clear_output)\n",
    "\n",
    "image_clear_with_boxes_output = os.path.join(root_dir,'generated_img_clear_with_boxes')\n",
    "print(image_clear_with_boxes_output)\n"
   ]
  },
  {
   "cell_type": "code",
   "execution_count": 22,
   "metadata": {},
   "outputs": [],
   "source": [
    "def id_generator(size=6, chars=string.ascii_letters + string.digits):\n",
    "    return ''.join(random.choice(chars) for _ in range(size))\n"
   ]
  },
  {
   "cell_type": "code",
   "execution_count": 23,
   "metadata": {},
   "outputs": [],
   "source": [
    "classes = 'ABCDEFGHJKLMNPQRSTUVWXYZ23456789'\n",
    "len(classes)\n",
    "\n",
    "char_size_threshold = 20\n"
   ]
  },
  {
   "cell_type": "code",
   "execution_count": null,
   "metadata": {},
   "outputs": [],
   "source": [
    "\n"
   ]
  },
  {
   "cell_type": "code",
   "execution_count": 24,
   "metadata": {},
   "outputs": [
    {
     "name": "stdout",
     "output_type": "stream",
     "text": [
      "65536\n"
     ]
    }
   ],
   "source": [
    "# generating filename list - evenly!!!\n",
    "RANGE1=list(range(0,16))\n",
    "RANGE2=list(range(16,32))\n",
    "RANGE3=list(range(9,25))\n",
    "RANGE4=list(range(0,9))+list(range(25,32))\n",
    "\n",
    "rnd_4letter_captcha = []\n",
    "for l1 in RANGE1:\n",
    "    l1name = classes[l1]\n",
    "    for l2 in RANGE2:\n",
    "        l2name =  classes[l2]\n",
    "        for l3 in RANGE3:\n",
    "            l3name =  classes[l3]\n",
    "            for l4 in RANGE4:\n",
    "                l4name =  classes[l4]\n",
    "                concat_name = l1name + l2name + l3name +l4name\n",
    "                rnd_4letter_captcha.append(concat_name)\n",
    "print(len(rnd_4letter_captcha))"
   ]
  },
  {
   "cell_type": "code",
   "execution_count": 25,
   "metadata": {},
   "outputs": [
    {
     "name": "stdout",
     "output_type": "stream",
     "text": [
   
     ]
    }
   ],
   "source": [
    "for rnd_string in rnd_4letter_captcha:\n",
    "    font = glob.glob(os.path.join(os.getcwd(),\"fonts\") + \"/leadcoat.ttf\")[0]\n",
    "    #print('rnd char text = ' + rnd_string)\n",
    "    c = Claptcha(rnd_string,font,margin=(10,100),\n",
    "                 resample=Image.BICUBIC,size=(300, 300), noise=0.0)\n",
    "\n",
    "    # creating array versions of clear and dirty images\n",
    "    text,image_clear = c.clear_image\n",
    "    text_for_dirty,image_dirty = c.dirty_image\n",
    "\n",
    "    # creating file paths\n",
    "    captcha_image_clear_file = os.path.join(image_clear_output, rnd_string +'.png')\n",
    "    captcha_image_dirty_file = os.path.join(image_output,rnd_string + '.png')\n",
    "    \n",
    "    #saving clear image\n",
    "    image_clear.save(captcha_image_clear_file)\n",
    "    \n",
    "    # generating bounding boxes using OpenCV contours\n",
    "    captcha_image_file  = os.path.join(image_clear_output, rnd_string +'.png')        \n",
    "    image = cv2.imread(captcha_image_file)\n",
    "    gray = cv2.cvtColor(image, cv2.COLOR_BGR2GRAY)\n",
    "\n",
    "    # threshold the image (convert it to pure black and white)\n",
    "    thresh = cv2.threshold(gray, 127, 255, cv2.THRESH_BINARY_INV | cv2.THRESH_OTSU)[1]\n",
    "\n",
    "    # find the contours (continuous blobs of pixels) the image\n",
    "    contours = cv2.findContours(thresh.copy(), cv2.RETR_EXTERNAL, cv2.CHAIN_APPROX_SIMPLE)\n",
    "\n",
    "    # Hack for compatibility with different OpenCV versions\n",
    "    contours = contours[0] #if imutils.is_cv2() else contours[1]\n",
    "    \n",
    "    # removing false bouding boxes\n",
    "    fixed_contours = []\n",
    "    for contour in contours:\n",
    "        # Get the rectangle that contains the contour\n",
    "        (x, y, w, h) = cv2.boundingRect(contour)\n",
    "        if w*h > char_size_threshold:\n",
    "            fixed_contours.append(contour)\n",
    "    \n",
    "    # Now we can loop through each of the four contours and extract the letter\n",
    "    # inside of each one\n",
    "    letter_image_regions = []\n",
    "    for contour in fixed_contours:    \n",
    "        # Get the rectangle that contains the contour\n",
    "        (x, y, w, h) = cv2.boundingRect(contour)\n",
    "        \n",
    "        # Compare the width and height of the contour to detect letters that\n",
    "        # are conjoined into one chunk\n",
    "        if w / h > 1.25:\n",
    "            # This contour is too wide to be a single letter!\n",
    "            # Split it in half into two letter regions!\n",
    "            half_width = int(w / 2)\n",
    "            letter_image_regions.append((x, y, half_width, h))\n",
    "            letter_image_regions.append((x + half_width, y, half_width, h))\n",
    "        else:\n",
    "            # This is a normal letter by itself\n",
    "            letter_image_regions.append((x, y, w, h))   \n",
    "        \n",
    "        ## create image label text file\n",
    "    if len(letter_image_regions) != 4:\n",
    "        ## delete image\n",
    "        print('deleting image [{0}] due to num of bounding boxes diff than 4!'.format(captcha_image_clear_file))\n",
    "        os.remove(captcha_image_clear_file)\n",
    "        continue\n",
    "    \n",
    "    #sorting boxes accroding to pixel place\n",
    "    letter_image_regions = sorted(letter_image_regions, key=lambda x: x[0])        \n",
    "    \n",
    "    #use for drawing boxes for later use in deubg\n",
    "    clean_img_as_array = np.asarray(image_clear)\n",
    "    dirty_img_as_array = np.asarray(image_dirty)\n",
    "\n",
    "    # Save out each letter as a single image\n",
    "    label = []\n",
    "    for letter_bounding_box, letter_text in zip(letter_image_regions, rnd_string):\n",
    "        # Grab the coordinates of the letter in the image\n",
    "        x, y, w, h = letter_bounding_box\n",
    "        (xmax,ymax , xmin , ymin)  = (x+w+1,y+h+1,x,y)\n",
    "\n",
    "        # adding bounding boxes for debug\n",
    "        clean_img_as_array = cv2.putText(clean_img_as_array, letter_text, (xmax,ymax), cv2.FONT_HERSHEY_SIMPLEX, 1.0,\n",
    "                                         (255,0,0),lineType=cv2.LINE_AA) \n",
    "        clean_img_as_array = cv2.rectangle(clean_img_as_array,(xmax,ymax),(xmin,ymin),(0,255,0),3)\n",
    "\n",
    "        dirty_img_as_array = cv2.putText(dirty_img_as_array, letter_text, (xmax,ymax), cv2.FONT_HERSHEY_SIMPLEX, 1.0,\n",
    "                                         (255,0,0),lineType=cv2.LINE_AA) \n",
    "        dirty_img_as_array = cv2.rectangle(dirty_img_as_array,(xmax,ymax),(xmin,ymin),(0,255,0),3)        \n",
    "\n",
    "        #print (\"xmax {2} ymax {3} xmin {0} ymin {1}\".format(xmin,ymin , xmax , ymax))\n",
    "        print(','.join((str(xmin),str(ymin) , str(xmax) , str(ymax))))\n",
    "        label.append(','.join((str(xmax),str(ymax) , str(xmin) , str(ymin))) + ',' + str(classes.index(letter_text) ))        \n",
    "    \n",
    "    # saving clear image with bounding box for debug\n",
    "    im = Image.fromarray(clean_img_as_array)\n",
    "    im.save(os.path.join(image_clear_with_boxes_output,rnd_string + \".png\"))\n",
    "    \n",
    "    # saving annotation file\n",
    "    print(os.path.join(image_clear_output, rnd_string+'.txt'))\n",
    "    log_file = open(os.path.join(image_clear_output, rnd_string+'.txt'), 'a')\n",
    "    for l in label:\n",
    "          log_file.write(l +\"\\n\") \n",
    "    log_file.close()\n",
    "    copyfile(os.path.join(image_clear_output, rnd_string+'.txt'),\n",
    "         os.path.join(image_output, rnd_string+'.txt'))\n",
    "    \n",
    "    # saving images as files\n",
    "    image_dirty.save(captcha_image_dirty_file)\n",
    "    \n",
    "    \n",
    "    \n",
    "    "
   ]
  },
  {
   "cell_type": "code",
   "execution_count": null,
   "metadata": {},
   "outputs": [],
   "source": []
  },
  {
   "cell_type": "code",
   "execution_count": null,
   "metadata": {},
   "outputs": [],
   "source": [
    "\n"
   ]
  },
  {
   "cell_type": "code",
   "execution_count": null,
   "metadata": {},
   "outputs": [],
   "source": []
  }
 ],
 "metadata": {
  "kernelspec": {
   "display_name": "Python 3.6 - AzureML",
   "language": "python",
   "name": "python3-azureml"
  },
  "language_info": {
   "codemirror_mode": {
    "name": "ipython",
    "version": 3
   },
   "file_extension": ".py",
   "mimetype": "text/x-python",
   "name": "python",
   "nbconvert_exporter": "python",
   "pygments_lexer": "ipython3",
   "version": "3.6.7"
  }
 },
 "nbformat": 4,
 "nbformat_minor": 2
}